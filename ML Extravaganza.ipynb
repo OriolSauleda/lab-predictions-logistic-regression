{
 "cells": [
  {
   "cell_type": "code",
   "execution_count": 1,
   "metadata": {},
   "outputs": [
    {
     "name": "stdout",
     "output_type": "stream",
     "text": [
      "Requirement already satisfied: sqlalchemy in /Users/URI/opt/anaconda3/lib/python3.8/site-packages (1.3.23)\n",
      "Requirement already satisfied: PyMySQL in /Users/URI/opt/anaconda3/lib/python3.8/site-packages (1.0.2)\n"
     ]
    }
   ],
   "source": [
    "! pip3 install sqlalchemy\n",
    "! pip3 install PyMySQL"
   ]
  },
  {
   "cell_type": "code",
   "execution_count": 98,
   "metadata": {},
   "outputs": [
    {
     "name": "stdout",
     "output_type": "stream",
     "text": [
      "········\n"
     ]
    }
   ],
   "source": [
    "import pymysql\n",
    "from sqlalchemy import create_engine\n",
    "import pandas as pd\n",
    "import getpass\n",
    "password = getpass.getpass()"
   ]
  },
  {
   "cell_type": "code",
   "execution_count": 99,
   "metadata": {},
   "outputs": [],
   "source": [
    "connection_string = 'mysql+pymysql://root:' + password + '@localhost/Sakila'\n",
    "engine = create_engine(connection_string)"
   ]
  },
  {
   "cell_type": "code",
   "execution_count": 100,
   "metadata": {},
   "outputs": [
    {
     "data": {
      "text/html": [
       "<div>\n",
       "<style scoped>\n",
       "    .dataframe tbody tr th:only-of-type {\n",
       "        vertical-align: middle;\n",
       "    }\n",
       "\n",
       "    .dataframe tbody tr th {\n",
       "        vertical-align: top;\n",
       "    }\n",
       "\n",
       "    .dataframe thead th {\n",
       "        text-align: right;\n",
       "    }\n",
       "</style>\n",
       "<table border=\"1\" class=\"dataframe\">\n",
       "  <thead>\n",
       "    <tr style=\"text-align: right;\">\n",
       "      <th></th>\n",
       "      <th>customer_id</th>\n",
       "      <th>city</th>\n",
       "      <th>category</th>\n",
       "      <th>number_of_films_rented</th>\n",
       "      <th>total_money_spent</th>\n",
       "      <th>films_rented_may_2005</th>\n",
       "      <th>question</th>\n",
       "    </tr>\n",
       "  </thead>\n",
       "  <tbody>\n",
       "    <tr>\n",
       "      <th>0</th>\n",
       "      <td>1</td>\n",
       "      <td>Sasebo</td>\n",
       "      <td>Classics</td>\n",
       "      <td>1024</td>\n",
       "      <td>3797.76</td>\n",
       "      <td>64.0</td>\n",
       "      <td>YES</td>\n",
       "    </tr>\n",
       "    <tr>\n",
       "      <th>1</th>\n",
       "      <td>2</td>\n",
       "      <td>San Bernardino</td>\n",
       "      <td>Sports</td>\n",
       "      <td>729</td>\n",
       "      <td>3475.71</td>\n",
       "      <td>27.0</td>\n",
       "      <td>YES</td>\n",
       "    </tr>\n",
       "    <tr>\n",
       "      <th>2</th>\n",
       "      <td>3</td>\n",
       "      <td>Athenai</td>\n",
       "      <td>Action</td>\n",
       "      <td>676</td>\n",
       "      <td>3529.24</td>\n",
       "      <td>52.0</td>\n",
       "      <td>YES</td>\n",
       "    </tr>\n",
       "    <tr>\n",
       "      <th>3</th>\n",
       "      <td>4</td>\n",
       "      <td>Myingyan</td>\n",
       "      <td>Horror</td>\n",
       "      <td>484</td>\n",
       "      <td>1799.16</td>\n",
       "      <td>NaN</td>\n",
       "      <td>YES</td>\n",
       "    </tr>\n",
       "    <tr>\n",
       "      <th>4</th>\n",
       "      <td>5</td>\n",
       "      <td>Nantou</td>\n",
       "      <td>Classics</td>\n",
       "      <td>1444</td>\n",
       "      <td>5495.56</td>\n",
       "      <td>114.0</td>\n",
       "      <td>YES</td>\n",
       "    </tr>\n",
       "  </tbody>\n",
       "</table>\n",
       "</div>"
      ],
      "text/plain": [
       "   customer_id            city  category  number_of_films_rented  \\\n",
       "0            1          Sasebo  Classics                    1024   \n",
       "1            2  San Bernardino    Sports                     729   \n",
       "2            3         Athenai    Action                     676   \n",
       "3            4        Myingyan    Horror                     484   \n",
       "4            5          Nantou  Classics                    1444   \n",
       "\n",
       "   total_money_spent  films_rented_may_2005 question  \n",
       "0            3797.76                   64.0      YES  \n",
       "1            3475.71                   27.0      YES  \n",
       "2            3529.24                   52.0      YES  \n",
       "3            1799.16                    NaN      YES  \n",
       "4            5495.56                  114.0      YES  "
      ]
     },
     "execution_count": 100,
     "metadata": {},
     "output_type": "execute_result"
    }
   ],
   "source": [
    "#We read the query that's needed for the prediction, which is to predict if the customer is going to rent a film next month\n",
    "query= pd.read_sql_query('SELECT table_query1.customer_id, city, category, number_of_films_rented, total_money_spent, films_rented_may_2005, question FROM query1 as table_query1  LEFT JOIN query2 as table_query2 on table_query1.customer_id = table_query2.customer_id LEFT JOIN query3 as table_query3 on table_query2.customer_id = table_query3.customer_id LEFT JOIN query4 as table_query4 on table_query1.customer_id = table_query4.customer_id LEFT JOIN query5 as table_query5 on table_query1.customer_id = table_query5.customer_id LEFT JOIN sakila.customer as customer_table on table_query1.customer_id = customer_table.customer_id  LEFT JOIN sakila.address as address_table on customer_table.address_id = address_table.address_id LEFT JOIN sakila.city as city_table on address_table.city_id = city_table.city_id;', engine)\n",
    "query.head()"
   ]
  },
  {
   "cell_type": "code",
   "execution_count": 101,
   "metadata": {},
   "outputs": [
    {
     "data": {
      "text/plain": [
       "(599, 7)"
      ]
     },
     "execution_count": 101,
     "metadata": {},
     "output_type": "execute_result"
    }
   ],
   "source": [
    "query.shape"
   ]
  },
  {
   "cell_type": "code",
   "execution_count": 102,
   "metadata": {
    "scrolled": false
   },
   "outputs": [
    {
     "data": {
      "text/plain": [
       "customer_id                0\n",
       "city                       0\n",
       "category                   0\n",
       "number_of_films_rented     0\n",
       "total_money_spent          0\n",
       "films_rented_may_2005     79\n",
       "question                   9\n",
       "dtype: int64"
      ]
     },
     "execution_count": 102,
     "metadata": {},
     "output_type": "execute_result"
    }
   ],
   "source": [
    "#First, I want to check if there are some NaN's and I see there are more than 10% of the data, so I consider it's too much to drop\n",
    "query.isna().sum()"
   ]
  },
  {
   "cell_type": "code",
   "execution_count": 106,
   "metadata": {},
   "outputs": [],
   "source": [
    "query['question'].fillna('NO', inplace = True)\n",
    "#I fill the NAN's with NO, because I assume it, given that all other values are YES"
   ]
  },
  {
   "cell_type": "code",
   "execution_count": 107,
   "metadata": {},
   "outputs": [
    {
     "data": {
      "text/html": [
       "<div>\n",
       "<style scoped>\n",
       "    .dataframe tbody tr th:only-of-type {\n",
       "        vertical-align: middle;\n",
       "    }\n",
       "\n",
       "    .dataframe tbody tr th {\n",
       "        vertical-align: top;\n",
       "    }\n",
       "\n",
       "    .dataframe thead th {\n",
       "        text-align: right;\n",
       "    }\n",
       "</style>\n",
       "<table border=\"1\" class=\"dataframe\">\n",
       "  <thead>\n",
       "    <tr style=\"text-align: right;\">\n",
       "      <th></th>\n",
       "      <th>customer_id</th>\n",
       "      <th>city</th>\n",
       "      <th>category</th>\n",
       "      <th>number_of_films_rented</th>\n",
       "      <th>total_money_spent</th>\n",
       "      <th>films_rented_may_2005</th>\n",
       "      <th>question</th>\n",
       "    </tr>\n",
       "  </thead>\n",
       "  <tbody>\n",
       "    <tr>\n",
       "      <th>0</th>\n",
       "      <td>1</td>\n",
       "      <td>Sasebo</td>\n",
       "      <td>Classics</td>\n",
       "      <td>1024</td>\n",
       "      <td>3797.76</td>\n",
       "      <td>64.0</td>\n",
       "      <td>YES</td>\n",
       "    </tr>\n",
       "    <tr>\n",
       "      <th>1</th>\n",
       "      <td>2</td>\n",
       "      <td>San Bernardino</td>\n",
       "      <td>Sports</td>\n",
       "      <td>729</td>\n",
       "      <td>3475.71</td>\n",
       "      <td>27.0</td>\n",
       "      <td>YES</td>\n",
       "    </tr>\n",
       "    <tr>\n",
       "      <th>2</th>\n",
       "      <td>3</td>\n",
       "      <td>Athenai</td>\n",
       "      <td>Action</td>\n",
       "      <td>676</td>\n",
       "      <td>3529.24</td>\n",
       "      <td>52.0</td>\n",
       "      <td>YES</td>\n",
       "    </tr>\n",
       "    <tr>\n",
       "      <th>3</th>\n",
       "      <td>4</td>\n",
       "      <td>Myingyan</td>\n",
       "      <td>Horror</td>\n",
       "      <td>484</td>\n",
       "      <td>1799.16</td>\n",
       "      <td>NaN</td>\n",
       "      <td>YES</td>\n",
       "    </tr>\n",
       "    <tr>\n",
       "      <th>4</th>\n",
       "      <td>5</td>\n",
       "      <td>Nantou</td>\n",
       "      <td>Classics</td>\n",
       "      <td>1444</td>\n",
       "      <td>5495.56</td>\n",
       "      <td>114.0</td>\n",
       "      <td>YES</td>\n",
       "    </tr>\n",
       "    <tr>\n",
       "      <th>...</th>\n",
       "      <td>...</td>\n",
       "      <td>...</td>\n",
       "      <td>...</td>\n",
       "      <td>...</td>\n",
       "      <td>...</td>\n",
       "      <td>...</td>\n",
       "      <td>...</td>\n",
       "    </tr>\n",
       "    <tr>\n",
       "      <th>594</th>\n",
       "      <td>595</td>\n",
       "      <td>Jinzhou</td>\n",
       "      <td>Documentary</td>\n",
       "      <td>900</td>\n",
       "      <td>3531.00</td>\n",
       "      <td>30.0</td>\n",
       "      <td>YES</td>\n",
       "    </tr>\n",
       "    <tr>\n",
       "      <th>595</th>\n",
       "      <td>596</td>\n",
       "      <td>Patras</td>\n",
       "      <td>Sports</td>\n",
       "      <td>784</td>\n",
       "      <td>2708.16</td>\n",
       "      <td>168.0</td>\n",
       "      <td>YES</td>\n",
       "    </tr>\n",
       "    <tr>\n",
       "      <th>596</th>\n",
       "      <td>597</td>\n",
       "      <td>Sullana</td>\n",
       "      <td>Foreign</td>\n",
       "      <td>625</td>\n",
       "      <td>2493.75</td>\n",
       "      <td>50.0</td>\n",
       "      <td>YES</td>\n",
       "    </tr>\n",
       "    <tr>\n",
       "      <th>597</th>\n",
       "      <td>598</td>\n",
       "      <td>Lausanne</td>\n",
       "      <td>Foreign</td>\n",
       "      <td>484</td>\n",
       "      <td>1843.16</td>\n",
       "      <td>NaN</td>\n",
       "      <td>YES</td>\n",
       "    </tr>\n",
       "    <tr>\n",
       "      <th>598</th>\n",
       "      <td>599</td>\n",
       "      <td>Tieli</td>\n",
       "      <td>Horror</td>\n",
       "      <td>361</td>\n",
       "      <td>1592.39</td>\n",
       "      <td>19.0</td>\n",
       "      <td>YES</td>\n",
       "    </tr>\n",
       "  </tbody>\n",
       "</table>\n",
       "<p>599 rows × 7 columns</p>\n",
       "</div>"
      ],
      "text/plain": [
       "     customer_id            city     category  number_of_films_rented  \\\n",
       "0              1          Sasebo     Classics                    1024   \n",
       "1              2  San Bernardino       Sports                     729   \n",
       "2              3         Athenai       Action                     676   \n",
       "3              4        Myingyan       Horror                     484   \n",
       "4              5          Nantou     Classics                    1444   \n",
       "..           ...             ...          ...                     ...   \n",
       "594          595         Jinzhou  Documentary                     900   \n",
       "595          596          Patras       Sports                     784   \n",
       "596          597         Sullana      Foreign                     625   \n",
       "597          598        Lausanne      Foreign                     484   \n",
       "598          599           Tieli       Horror                     361   \n",
       "\n",
       "     total_money_spent  films_rented_may_2005 question  \n",
       "0              3797.76                   64.0      YES  \n",
       "1              3475.71                   27.0      YES  \n",
       "2              3529.24                   52.0      YES  \n",
       "3              1799.16                    NaN      YES  \n",
       "4              5495.56                  114.0      YES  \n",
       "..                 ...                    ...      ...  \n",
       "594            3531.00                   30.0      YES  \n",
       "595            2708.16                  168.0      YES  \n",
       "596            2493.75                   50.0      YES  \n",
       "597            1843.16                    NaN      YES  \n",
       "598            1592.39                   19.0      YES  \n",
       "\n",
       "[599 rows x 7 columns]"
      ]
     },
     "execution_count": 107,
     "metadata": {},
     "output_type": "execute_result"
    }
   ],
   "source": [
    "query"
   ]
  },
  {
   "cell_type": "code",
   "execution_count": 108,
   "metadata": {},
   "outputs": [
    {
     "data": {
      "text/html": [
       "<div>\n",
       "<style scoped>\n",
       "    .dataframe tbody tr th:only-of-type {\n",
       "        vertical-align: middle;\n",
       "    }\n",
       "\n",
       "    .dataframe tbody tr th {\n",
       "        vertical-align: top;\n",
       "    }\n",
       "\n",
       "    .dataframe thead th {\n",
       "        text-align: right;\n",
       "    }\n",
       "</style>\n",
       "<table border=\"1\" class=\"dataframe\">\n",
       "  <thead>\n",
       "    <tr style=\"text-align: right;\">\n",
       "      <th></th>\n",
       "      <th>city</th>\n",
       "      <th>category</th>\n",
       "      <th>number_of_films_rented</th>\n",
       "      <th>total_money_spent</th>\n",
       "      <th>films_rented_may_2005</th>\n",
       "      <th>question</th>\n",
       "    </tr>\n",
       "    <tr>\n",
       "      <th>customer_id</th>\n",
       "      <th></th>\n",
       "      <th></th>\n",
       "      <th></th>\n",
       "      <th></th>\n",
       "      <th></th>\n",
       "      <th></th>\n",
       "    </tr>\n",
       "  </thead>\n",
       "  <tbody>\n",
       "    <tr>\n",
       "      <th>1</th>\n",
       "      <td>Sasebo</td>\n",
       "      <td>Classics</td>\n",
       "      <td>1024</td>\n",
       "      <td>3797.76</td>\n",
       "      <td>64.0</td>\n",
       "      <td>YES</td>\n",
       "    </tr>\n",
       "    <tr>\n",
       "      <th>2</th>\n",
       "      <td>San Bernardino</td>\n",
       "      <td>Sports</td>\n",
       "      <td>729</td>\n",
       "      <td>3475.71</td>\n",
       "      <td>27.0</td>\n",
       "      <td>YES</td>\n",
       "    </tr>\n",
       "    <tr>\n",
       "      <th>3</th>\n",
       "      <td>Athenai</td>\n",
       "      <td>Action</td>\n",
       "      <td>676</td>\n",
       "      <td>3529.24</td>\n",
       "      <td>52.0</td>\n",
       "      <td>YES</td>\n",
       "    </tr>\n",
       "    <tr>\n",
       "      <th>4</th>\n",
       "      <td>Myingyan</td>\n",
       "      <td>Horror</td>\n",
       "      <td>484</td>\n",
       "      <td>1799.16</td>\n",
       "      <td>NaN</td>\n",
       "      <td>YES</td>\n",
       "    </tr>\n",
       "    <tr>\n",
       "      <th>5</th>\n",
       "      <td>Nantou</td>\n",
       "      <td>Classics</td>\n",
       "      <td>1444</td>\n",
       "      <td>5495.56</td>\n",
       "      <td>114.0</td>\n",
       "      <td>YES</td>\n",
       "    </tr>\n",
       "    <tr>\n",
       "      <th>...</th>\n",
       "      <td>...</td>\n",
       "      <td>...</td>\n",
       "      <td>...</td>\n",
       "      <td>...</td>\n",
       "      <td>...</td>\n",
       "      <td>...</td>\n",
       "    </tr>\n",
       "    <tr>\n",
       "      <th>595</th>\n",
       "      <td>Jinzhou</td>\n",
       "      <td>Documentary</td>\n",
       "      <td>900</td>\n",
       "      <td>3531.00</td>\n",
       "      <td>30.0</td>\n",
       "      <td>YES</td>\n",
       "    </tr>\n",
       "    <tr>\n",
       "      <th>596</th>\n",
       "      <td>Patras</td>\n",
       "      <td>Sports</td>\n",
       "      <td>784</td>\n",
       "      <td>2708.16</td>\n",
       "      <td>168.0</td>\n",
       "      <td>YES</td>\n",
       "    </tr>\n",
       "    <tr>\n",
       "      <th>597</th>\n",
       "      <td>Sullana</td>\n",
       "      <td>Foreign</td>\n",
       "      <td>625</td>\n",
       "      <td>2493.75</td>\n",
       "      <td>50.0</td>\n",
       "      <td>YES</td>\n",
       "    </tr>\n",
       "    <tr>\n",
       "      <th>598</th>\n",
       "      <td>Lausanne</td>\n",
       "      <td>Foreign</td>\n",
       "      <td>484</td>\n",
       "      <td>1843.16</td>\n",
       "      <td>NaN</td>\n",
       "      <td>YES</td>\n",
       "    </tr>\n",
       "    <tr>\n",
       "      <th>599</th>\n",
       "      <td>Tieli</td>\n",
       "      <td>Horror</td>\n",
       "      <td>361</td>\n",
       "      <td>1592.39</td>\n",
       "      <td>19.0</td>\n",
       "      <td>YES</td>\n",
       "    </tr>\n",
       "  </tbody>\n",
       "</table>\n",
       "<p>599 rows × 6 columns</p>\n",
       "</div>"
      ],
      "text/plain": [
       "                       city     category  number_of_films_rented  \\\n",
       "customer_id                                                        \n",
       "1                    Sasebo     Classics                    1024   \n",
       "2            San Bernardino       Sports                     729   \n",
       "3                   Athenai       Action                     676   \n",
       "4                  Myingyan       Horror                     484   \n",
       "5                    Nantou     Classics                    1444   \n",
       "...                     ...          ...                     ...   \n",
       "595                 Jinzhou  Documentary                     900   \n",
       "596                  Patras       Sports                     784   \n",
       "597                 Sullana      Foreign                     625   \n",
       "598                Lausanne      Foreign                     484   \n",
       "599                   Tieli       Horror                     361   \n",
       "\n",
       "             total_money_spent  films_rented_may_2005 question  \n",
       "customer_id                                                     \n",
       "1                      3797.76                   64.0      YES  \n",
       "2                      3475.71                   27.0      YES  \n",
       "3                      3529.24                   52.0      YES  \n",
       "4                      1799.16                    NaN      YES  \n",
       "5                      5495.56                  114.0      YES  \n",
       "...                        ...                    ...      ...  \n",
       "595                    3531.00                   30.0      YES  \n",
       "596                    2708.16                  168.0      YES  \n",
       "597                    2493.75                   50.0      YES  \n",
       "598                    1843.16                    NaN      YES  \n",
       "599                    1592.39                   19.0      YES  \n",
       "\n",
       "[599 rows x 6 columns]"
      ]
     },
     "execution_count": 108,
     "metadata": {},
     "output_type": "execute_result"
    }
   ],
   "source": [
    "#I set the Customer_id column as index, as it's unique.\n",
    "df1 = query.set_index('customer_id')\n",
    "df1"
   ]
  },
  {
   "cell_type": "code",
   "execution_count": 109,
   "metadata": {},
   "outputs": [
    {
     "data": {
      "text/html": [
       "<div>\n",
       "<style scoped>\n",
       "    .dataframe tbody tr th:only-of-type {\n",
       "        vertical-align: middle;\n",
       "    }\n",
       "\n",
       "    .dataframe tbody tr th {\n",
       "        vertical-align: top;\n",
       "    }\n",
       "\n",
       "    .dataframe thead th {\n",
       "        text-align: right;\n",
       "    }\n",
       "</style>\n",
       "<table border=\"1\" class=\"dataframe\">\n",
       "  <thead>\n",
       "    <tr style=\"text-align: right;\">\n",
       "      <th></th>\n",
       "      <th>city</th>\n",
       "      <th>category</th>\n",
       "      <th>number_of_films_rented</th>\n",
       "      <th>total_money_spent</th>\n",
       "      <th>films_rented_may_2005</th>\n",
       "      <th>question</th>\n",
       "    </tr>\n",
       "    <tr>\n",
       "      <th>customer_id</th>\n",
       "      <th></th>\n",
       "      <th></th>\n",
       "      <th></th>\n",
       "      <th></th>\n",
       "      <th></th>\n",
       "      <th></th>\n",
       "    </tr>\n",
       "  </thead>\n",
       "  <tbody>\n",
       "    <tr>\n",
       "      <th>1</th>\n",
       "      <td>Sasebo</td>\n",
       "      <td>Classics</td>\n",
       "      <td>1024</td>\n",
       "      <td>3797.76</td>\n",
       "      <td>64.0</td>\n",
       "      <td>YES</td>\n",
       "    </tr>\n",
       "    <tr>\n",
       "      <th>2</th>\n",
       "      <td>San Bernardino</td>\n",
       "      <td>Sports</td>\n",
       "      <td>729</td>\n",
       "      <td>3475.71</td>\n",
       "      <td>27.0</td>\n",
       "      <td>YES</td>\n",
       "    </tr>\n",
       "    <tr>\n",
       "      <th>3</th>\n",
       "      <td>Athenai</td>\n",
       "      <td>Action</td>\n",
       "      <td>676</td>\n",
       "      <td>3529.24</td>\n",
       "      <td>52.0</td>\n",
       "      <td>YES</td>\n",
       "    </tr>\n",
       "    <tr>\n",
       "      <th>4</th>\n",
       "      <td>Myingyan</td>\n",
       "      <td>Horror</td>\n",
       "      <td>484</td>\n",
       "      <td>1799.16</td>\n",
       "      <td>0.0</td>\n",
       "      <td>YES</td>\n",
       "    </tr>\n",
       "    <tr>\n",
       "      <th>5</th>\n",
       "      <td>Nantou</td>\n",
       "      <td>Classics</td>\n",
       "      <td>1444</td>\n",
       "      <td>5495.56</td>\n",
       "      <td>114.0</td>\n",
       "      <td>YES</td>\n",
       "    </tr>\n",
       "    <tr>\n",
       "      <th>...</th>\n",
       "      <td>...</td>\n",
       "      <td>...</td>\n",
       "      <td>...</td>\n",
       "      <td>...</td>\n",
       "      <td>...</td>\n",
       "      <td>...</td>\n",
       "    </tr>\n",
       "    <tr>\n",
       "      <th>595</th>\n",
       "      <td>Jinzhou</td>\n",
       "      <td>Documentary</td>\n",
       "      <td>900</td>\n",
       "      <td>3531.00</td>\n",
       "      <td>30.0</td>\n",
       "      <td>YES</td>\n",
       "    </tr>\n",
       "    <tr>\n",
       "      <th>596</th>\n",
       "      <td>Patras</td>\n",
       "      <td>Sports</td>\n",
       "      <td>784</td>\n",
       "      <td>2708.16</td>\n",
       "      <td>168.0</td>\n",
       "      <td>YES</td>\n",
       "    </tr>\n",
       "    <tr>\n",
       "      <th>597</th>\n",
       "      <td>Sullana</td>\n",
       "      <td>Foreign</td>\n",
       "      <td>625</td>\n",
       "      <td>2493.75</td>\n",
       "      <td>50.0</td>\n",
       "      <td>YES</td>\n",
       "    </tr>\n",
       "    <tr>\n",
       "      <th>598</th>\n",
       "      <td>Lausanne</td>\n",
       "      <td>Foreign</td>\n",
       "      <td>484</td>\n",
       "      <td>1843.16</td>\n",
       "      <td>0.0</td>\n",
       "      <td>YES</td>\n",
       "    </tr>\n",
       "    <tr>\n",
       "      <th>599</th>\n",
       "      <td>Tieli</td>\n",
       "      <td>Horror</td>\n",
       "      <td>361</td>\n",
       "      <td>1592.39</td>\n",
       "      <td>19.0</td>\n",
       "      <td>YES</td>\n",
       "    </tr>\n",
       "  </tbody>\n",
       "</table>\n",
       "<p>599 rows × 6 columns</p>\n",
       "</div>"
      ],
      "text/plain": [
       "                       city     category  number_of_films_rented  \\\n",
       "customer_id                                                        \n",
       "1                    Sasebo     Classics                    1024   \n",
       "2            San Bernardino       Sports                     729   \n",
       "3                   Athenai       Action                     676   \n",
       "4                  Myingyan       Horror                     484   \n",
       "5                    Nantou     Classics                    1444   \n",
       "...                     ...          ...                     ...   \n",
       "595                 Jinzhou  Documentary                     900   \n",
       "596                  Patras       Sports                     784   \n",
       "597                 Sullana      Foreign                     625   \n",
       "598                Lausanne      Foreign                     484   \n",
       "599                   Tieli       Horror                     361   \n",
       "\n",
       "             total_money_spent  films_rented_may_2005 question  \n",
       "customer_id                                                     \n",
       "1                      3797.76                   64.0      YES  \n",
       "2                      3475.71                   27.0      YES  \n",
       "3                      3529.24                   52.0      YES  \n",
       "4                      1799.16                    0.0      YES  \n",
       "5                      5495.56                  114.0      YES  \n",
       "...                        ...                    ...      ...  \n",
       "595                    3531.00                   30.0      YES  \n",
       "596                    2708.16                  168.0      YES  \n",
       "597                    2493.75                   50.0      YES  \n",
       "598                    1843.16                    0.0      YES  \n",
       "599                    1592.39                   19.0      YES  \n",
       "\n",
       "[599 rows x 6 columns]"
      ]
     },
     "execution_count": 109,
     "metadata": {},
     "output_type": "execute_result"
    }
   ],
   "source": [
    "#I assume that the NaN's in films rented are because the customer didn't rent any\n",
    "df1['films_rented_may_2005'].fillna(0, inplace=True)\n",
    "df1"
   ]
  },
  {
   "cell_type": "code",
   "execution_count": 110,
   "metadata": {},
   "outputs": [
    {
     "data": {
      "text/plain": [
       "city                      0\n",
       "category                  0\n",
       "number_of_films_rented    0\n",
       "total_money_spent         0\n",
       "films_rented_may_2005     0\n",
       "question                  0\n",
       "dtype: int64"
      ]
     },
     "execution_count": 110,
     "metadata": {},
     "output_type": "execute_result"
    }
   ],
   "source": [
    "df1.isna().sum()"
   ]
  },
  {
   "cell_type": "code",
   "execution_count": 111,
   "metadata": {},
   "outputs": [
    {
     "data": {
      "text/plain": [
       "city                       object\n",
       "category                   object\n",
       "number_of_films_rented      int64\n",
       "total_money_spent         float64\n",
       "films_rented_may_2005     float64\n",
       "question                   object\n",
       "dtype: object"
      ]
     },
     "execution_count": 111,
     "metadata": {},
     "output_type": "execute_result"
    }
   ],
   "source": [
    "df1.dtypes"
   ]
  },
  {
   "cell_type": "code",
   "execution_count": 112,
   "metadata": {},
   "outputs": [],
   "source": [
    "import numpy as np"
   ]
  },
  {
   "cell_type": "code",
   "execution_count": 113,
   "metadata": {},
   "outputs": [],
   "source": [
    "#After checking the types, I want to turn Films rented in May from float to Integer\n",
    "df1['films_rented_may_2005'] = df1['films_rented_may_2005'].apply(lambda x: int((float(x))))"
   ]
  },
  {
   "cell_type": "code",
   "execution_count": 114,
   "metadata": {},
   "outputs": [
    {
     "data": {
      "text/html": [
       "<div>\n",
       "<style scoped>\n",
       "    .dataframe tbody tr th:only-of-type {\n",
       "        vertical-align: middle;\n",
       "    }\n",
       "\n",
       "    .dataframe tbody tr th {\n",
       "        vertical-align: top;\n",
       "    }\n",
       "\n",
       "    .dataframe thead th {\n",
       "        text-align: right;\n",
       "    }\n",
       "</style>\n",
       "<table border=\"1\" class=\"dataframe\">\n",
       "  <thead>\n",
       "    <tr style=\"text-align: right;\">\n",
       "      <th></th>\n",
       "      <th>city</th>\n",
       "      <th>category</th>\n",
       "      <th>number_of_films_rented</th>\n",
       "      <th>total_money_spent</th>\n",
       "      <th>films_rented_may_2005</th>\n",
       "      <th>question</th>\n",
       "    </tr>\n",
       "    <tr>\n",
       "      <th>customer_id</th>\n",
       "      <th></th>\n",
       "      <th></th>\n",
       "      <th></th>\n",
       "      <th></th>\n",
       "      <th></th>\n",
       "      <th></th>\n",
       "    </tr>\n",
       "  </thead>\n",
       "  <tbody>\n",
       "    <tr>\n",
       "      <th>1</th>\n",
       "      <td>Sasebo</td>\n",
       "      <td>Classics</td>\n",
       "      <td>1024</td>\n",
       "      <td>3797.76</td>\n",
       "      <td>64</td>\n",
       "      <td>YES</td>\n",
       "    </tr>\n",
       "    <tr>\n",
       "      <th>2</th>\n",
       "      <td>San Bernardino</td>\n",
       "      <td>Sports</td>\n",
       "      <td>729</td>\n",
       "      <td>3475.71</td>\n",
       "      <td>27</td>\n",
       "      <td>YES</td>\n",
       "    </tr>\n",
       "    <tr>\n",
       "      <th>3</th>\n",
       "      <td>Athenai</td>\n",
       "      <td>Action</td>\n",
       "      <td>676</td>\n",
       "      <td>3529.24</td>\n",
       "      <td>52</td>\n",
       "      <td>YES</td>\n",
       "    </tr>\n",
       "    <tr>\n",
       "      <th>4</th>\n",
       "      <td>Myingyan</td>\n",
       "      <td>Horror</td>\n",
       "      <td>484</td>\n",
       "      <td>1799.16</td>\n",
       "      <td>0</td>\n",
       "      <td>YES</td>\n",
       "    </tr>\n",
       "    <tr>\n",
       "      <th>5</th>\n",
       "      <td>Nantou</td>\n",
       "      <td>Classics</td>\n",
       "      <td>1444</td>\n",
       "      <td>5495.56</td>\n",
       "      <td>114</td>\n",
       "      <td>YES</td>\n",
       "    </tr>\n",
       "  </tbody>\n",
       "</table>\n",
       "</div>"
      ],
      "text/plain": [
       "                       city  category  number_of_films_rented  \\\n",
       "customer_id                                                     \n",
       "1                    Sasebo  Classics                    1024   \n",
       "2            San Bernardino    Sports                     729   \n",
       "3                   Athenai    Action                     676   \n",
       "4                  Myingyan    Horror                     484   \n",
       "5                    Nantou  Classics                    1444   \n",
       "\n",
       "             total_money_spent  films_rented_may_2005 question  \n",
       "customer_id                                                     \n",
       "1                      3797.76                     64      YES  \n",
       "2                      3475.71                     27      YES  \n",
       "3                      3529.24                     52      YES  \n",
       "4                      1799.16                      0      YES  \n",
       "5                      5495.56                    114      YES  "
      ]
     },
     "execution_count": 114,
     "metadata": {},
     "output_type": "execute_result"
    }
   ],
   "source": [
    "df1.head()"
   ]
  },
  {
   "cell_type": "code",
   "execution_count": 115,
   "metadata": {},
   "outputs": [
    {
     "data": {
      "text/html": [
       "<div>\n",
       "<style scoped>\n",
       "    .dataframe tbody tr th:only-of-type {\n",
       "        vertical-align: middle;\n",
       "    }\n",
       "\n",
       "    .dataframe tbody tr th {\n",
       "        vertical-align: top;\n",
       "    }\n",
       "\n",
       "    .dataframe thead th {\n",
       "        text-align: right;\n",
       "    }\n",
       "</style>\n",
       "<table border=\"1\" class=\"dataframe\">\n",
       "  <thead>\n",
       "    <tr style=\"text-align: right;\">\n",
       "      <th></th>\n",
       "      <th>number_of_films_rented</th>\n",
       "      <th>total_money_spent</th>\n",
       "      <th>films_rented_may_2005</th>\n",
       "    </tr>\n",
       "  </thead>\n",
       "  <tbody>\n",
       "    <tr>\n",
       "      <th>count</th>\n",
       "      <td>599.000000</td>\n",
       "      <td>599.000000</td>\n",
       "      <td>599.000000</td>\n",
       "    </tr>\n",
       "    <tr>\n",
       "      <th>mean</th>\n",
       "      <td>743.711185</td>\n",
       "      <td>3127.244023</td>\n",
       "      <td>53.287145</td>\n",
       "    </tr>\n",
       "    <tr>\n",
       "      <th>std</th>\n",
       "      <td>283.285824</td>\n",
       "      <td>1275.005703</td>\n",
       "      <td>43.397876</td>\n",
       "    </tr>\n",
       "    <tr>\n",
       "      <th>min</th>\n",
       "      <td>144.000000</td>\n",
       "      <td>634.560000</td>\n",
       "      <td>0.000000</td>\n",
       "    </tr>\n",
       "    <tr>\n",
       "      <th>25%</th>\n",
       "      <td>529.000000</td>\n",
       "      <td>2232.700000</td>\n",
       "      <td>25.000000</td>\n",
       "    </tr>\n",
       "    <tr>\n",
       "      <th>50%</th>\n",
       "      <td>676.000000</td>\n",
       "      <td>2943.750000</td>\n",
       "      <td>46.000000</td>\n",
       "    </tr>\n",
       "    <tr>\n",
       "      <th>75%</th>\n",
       "      <td>900.000000</td>\n",
       "      <td>3800.580000</td>\n",
       "      <td>70.000000</td>\n",
       "    </tr>\n",
       "    <tr>\n",
       "      <th>max</th>\n",
       "      <td>2116.000000</td>\n",
       "      <td>9969.750000</td>\n",
       "      <td>320.000000</td>\n",
       "    </tr>\n",
       "  </tbody>\n",
       "</table>\n",
       "</div>"
      ],
      "text/plain": [
       "       number_of_films_rented  total_money_spent  films_rented_may_2005\n",
       "count              599.000000         599.000000             599.000000\n",
       "mean               743.711185        3127.244023              53.287145\n",
       "std                283.285824        1275.005703              43.397876\n",
       "min                144.000000         634.560000               0.000000\n",
       "25%                529.000000        2232.700000              25.000000\n",
       "50%                676.000000        2943.750000              46.000000\n",
       "75%                900.000000        3800.580000              70.000000\n",
       "max               2116.000000        9969.750000             320.000000"
      ]
     },
     "execution_count": 115,
     "metadata": {},
     "output_type": "execute_result"
    }
   ],
   "source": [
    "#Some EDA to check for outliers and insightful data.\n",
    "df1.describe()"
   ]
  },
  {
   "cell_type": "code",
   "execution_count": 116,
   "metadata": {},
   "outputs": [],
   "source": [
    "#Separate numericals and categoricals to process them\n",
    "data_num = df1.select_dtypes(np.number)\n",
    "data_cat = df1.select_dtypes(np.object)"
   ]
  },
  {
   "cell_type": "code",
   "execution_count": 117,
   "metadata": {},
   "outputs": [],
   "source": [
    "import pandas as pd\n",
    "import numpy as np\n",
    "import matplotlib.pyplot as plt\n",
    "import seaborn as sns\n",
    "import scipy.stats as stats\n",
    "import os\n",
    "\n",
    "from sklearn.model_selection import train_test_split\n",
    "from sklearn.linear_model import LinearRegression\n",
    "from sklearn.metrics import r2_score, mean_squared_error, mean_absolute_error\n",
    "\n",
    "import warnings\n",
    "warnings.filterwarnings('ignore')"
   ]
  },
  {
   "cell_type": "code",
   "execution_count": 118,
   "metadata": {},
   "outputs": [
    {
     "data": {
      "image/png": "[encoded data removed]",
      "text/plain": [
       "<Figure size 432x288 with 1 Axes>"
      ]
     },
     "metadata": {
      "needs_background": "light"
     },
     "output_type": "display_data"
    },
    {
     "data": {
      "image/png": "[encoded data removed]",
      "text/plain": [
       "<Figure size 432x288 with 1 Axes>"
      ]
     },
     "metadata": {
      "needs_background": "light"
     },
     "output_type": "display_data"
    },
    {
     "data": {
      "image/png": "[encoded data removed]",
      "text/plain": [
       "<Figure size 432x288 with 1 Axes>"
      ]
     },
     "metadata": {
      "needs_background": "light"
     },
     "output_type": "display_data"
    }
   ],
   "source": [
    "#Checking the normality, the distribution looks pretty it\n",
    "for column in data_num.columns:\n",
    "    sns.distplot(data_num[column])\n",
    "    plt.show()"
   ]
  },
  {
   "cell_type": "code",
   "execution_count": 119,
   "metadata": {},
   "outputs": [
    {
     "data": {
      "image/png": "[encoded data removed]",
      "text/plain": [
       "<Figure size 1080x1080 with 1 Axes>"
      ]
     },
     "metadata": {
      "needs_background": "light"
     },
     "output_type": "display_data"
    }
   ],
   "source": [
    "plt.figure(figsize=(15,15))\n",
    "df1['category'].hist()\n",
    "plt.show()"
   ]
  },
  {
   "cell_type": "code",
   "execution_count": 120,
   "metadata": {},
   "outputs": [
    {
     "data": {
      "image/png": "[encoded data removed]",
      "text/plain": [
       "<Figure size 720x576 with 2 Axes>"
      ]
     },
     "metadata": {
      "needs_background": "light"
     },
     "output_type": "display_data"
    }
   ],
   "source": [
    "#Checking correlations, we see that, naturally, number of movies rented is highly correlated with total money spent.\n",
    "#There is a slight correlation with the number of films rented compared to films rented in May\n",
    "#So the number of films rented in total by a customer can explain with 44% of accuracy the number of films that will rent in a concrete month\n",
    "mask = np.zeros_like(df1.corr())\n",
    "\n",
    "mask[np.triu_indices_from(mask)] = True \n",
    "\n",
    "fig, ax = plt.subplots(figsize=(10, 8))\n",
    "ax = sns.heatmap(df1.corr(), mask=mask, annot=True)\n",
    "plt.show()"
   ]
  },
  {
   "cell_type": "code",
   "execution_count": 121,
   "metadata": {},
   "outputs": [
    {
     "data": {
      "text/plain": [
       "<seaborn.axisgrid.PairGrid at 0x7fcc09702040>"
      ]
     },
     "execution_count": 121,
     "metadata": {},
     "output_type": "execute_result"
    },
    {
     "data": {
      "image/png": "[encoded data removed]",
      "text/plain": [
       "<Figure size 540x540 with 12 Axes>"
      ]
     },
     "metadata": {
      "needs_background": "light"
     },
     "output_type": "display_data"
    }
   ],
   "source": [
    "sns.pairplot(df1)"
   ]
  },
  {
   "cell_type": "code",
   "execution_count": 122,
   "metadata": {},
   "outputs": [
    {
     "data": {
      "image/png": "[encoded data removed]",
      "text/plain": [
       "<Figure size 1152x1152 with 1 Axes>"
      ]
     },
     "metadata": {
      "needs_background": "light"
     },
     "output_type": "display_data"
    }
   ],
   "source": [
    "plt.figure(figsize=(16,16))\n",
    "sns.barplot(x=\"category\", y=\"total_money_spent\", data=df1)\n",
    "plt.show()"
   ]
  },
  {
   "cell_type": "code",
   "execution_count": 123,
   "metadata": {},
   "outputs": [
    {
     "data": {
      "image/png": "[encoded data removed]",
      "text/plain": [
       "<Figure size 1152x1152 with 1 Axes>"
      ]
     },
     "metadata": {
      "needs_background": "light"
     },
     "output_type": "display_data"
    }
   ],
   "source": [
    "#just curious about which categories are being more rented\n",
    "plt.figure(figsize=(16,16))\n",
    "sns.barplot(x=\"category\", y=\"number_of_films_rented\", data=df1)\n",
    "plt.show()"
   ]
  },
  {
   "cell_type": "code",
   "execution_count": 124,
   "metadata": {},
   "outputs": [
    {
     "data": {
      "text/plain": [
       "Sports         65\n",
       "Sci-Fi         60\n",
       "Animation      55\n",
       "Action         49\n",
       "Documentary    45\n",
       "Foreign        44\n",
       "Family         40\n",
       "Drama          37\n",
       "Games          34\n",
       "New            32\n",
       "Classics       26\n",
       "Music          24\n",
       "Comedy         24\n",
       "Horror         24\n",
       "Travel         22\n",
       "Children       18\n",
       "Name: category, dtype: int64"
      ]
     },
     "execution_count": 124,
     "metadata": {},
     "output_type": "execute_result"
    }
   ],
   "source": [
    "df1['category'].value_counts()"
   ]
  },
  {
   "cell_type": "code",
   "execution_count": 125,
   "metadata": {},
   "outputs": [
    {
     "data": {
      "image/png": "[encoded data removed]",
      "text/plain": [
       "<Figure size 432x288 with 1 Axes>"
      ]
     },
     "metadata": {
      "needs_background": "light"
     },
     "output_type": "display_data"
    },
    {
     "data": {
      "image/png": "[encoded data removed]",
      "text/plain": [
       "<Figure size 432x288 with 1 Axes>"
      ]
     },
     "metadata": {
      "needs_background": "light"
     },
     "output_type": "display_data"
    },
    {
     "data": {
      "image/png": "[encoded data removed]",
      "text/plain": [
       "<Figure size 432x288 with 1 Axes>"
      ]
     },
     "metadata": {
      "needs_background": "light"
     },
     "output_type": "display_data"
    }
   ],
   "source": [
    "#Checking for outliers\n",
    "for column in data_num.columns:\n",
    "    sns.boxplot(x=data_num[column])\n",
    "    plt.show()"
   ]
  },
  {
   "cell_type": "code",
   "execution_count": 126,
   "metadata": {},
   "outputs": [],
   "source": [
    "#There seem to be some outliers, and I want to delete them to make the model more accurate.\n",
    "for column in data_num:\n",
    "    upper = np.percentile(data_num[column],75)\n",
    "    lower = np.percentile(data_num[column],25)\n",
    "    iqr = upper - lower\n",
    "    upper_limit = upper + 1.2 * iqr\n",
    "    lower_limit = lower - 1.2 * iqr\n",
    "    clean_data_num = data_num[(data_num[column]>lower_limit) & (data_num[column]<upper_limit)]"
   ]
  },
  {
   "cell_type": "code",
   "execution_count": 127,
   "metadata": {},
   "outputs": [
    {
     "data": {
      "image/png": "[encoded data removed]",
      "text/plain": [
       "<Figure size 432x288 with 1 Axes>"
      ]
     },
     "metadata": {
      "needs_background": "light"
     },
     "output_type": "display_data"
    },
    {
     "data": {
      "image/png": "[encoded data removed]",
      "text/plain": [
       "<Figure size 432x288 with 1 Axes>"
      ]
     },
     "metadata": {
      "needs_background": "light"
     },
     "output_type": "display_data"
    },
    {
     "data": {
      "image/png": "[encoded data removed]",
      "text/plain": [
       "<Figure size 432x288 with 1 Axes>"
      ]
     },
     "metadata": {
      "needs_background": "light"
     },
     "output_type": "display_data"
    }
   ],
   "source": [
    "#It doesn't seem to have erased any, even with a low threshold. So maybe they weren't much of an outliers\n",
    "for column in data_num.columns:\n",
    "    sns.boxplot(x=data_num[column])\n",
    "    plt.show()"
   ]
  },
  {
   "cell_type": "code",
   "execution_count": 128,
   "metadata": {},
   "outputs": [],
   "source": [
    "df2 = df1.copy()"
   ]
  },
  {
   "cell_type": "code",
   "execution_count": 129,
   "metadata": {},
   "outputs": [],
   "source": [
    "from sklearn.preprocessing import StandardScaler\n",
    "from sklearn.preprocessing import Normalizer\n",
    "from sklearn.preprocessing import OneHotEncoder\n",
    "from sklearn.model_selection import train_test_split\n",
    "from sklearn.linear_model import LinearRegression\n",
    "from sklearn.metrics import r2_score, mean_squared_error"
   ]
  },
  {
   "cell_type": "code",
   "execution_count": 130,
   "metadata": {},
   "outputs": [
    {
     "data": {
      "text/plain": [
       "'log boxcox\\n\\n#def boxcox_transform(df2):\\n    numeric_cols = df2.select_dtypes(np.number).columns\\n    _ci = {column: None for column in numeric_cols}\\n    for column in numeric_cols:\\n       df2[column] = np.where(df2[column]<=0, np.NAN, df2[column]) \\n        df2[column] = df2[column].fillna(df2[column].mean())\\n        transformed_data, ci = stats.boxcox(df2[column])\\n        df2[column] = transformed_data\\n        _ci[column] = ci\\n    return df2, _ci'"
      ]
     },
     "execution_count": 130,
     "metadata": {},
     "output_type": "execute_result"
    }
   ],
   "source": [
    "\"\"\"log boxcox\n",
    "\n",
    "#def boxcox_transform(df2):\n",
    "    numeric_cols = df2.select_dtypes(np.number).columns\n",
    "    _ci = {column: None for column in numeric_cols}\n",
    "    for column in numeric_cols:\n",
    "       df2[column] = np.where(df2[column]<=0, np.NAN, df2[column]) \n",
    "        df2[column] = df2[column].fillna(df2[column].mean())\n",
    "        transformed_data, ci = stats.boxcox(df2[column])\n",
    "        df2[column] = transformed_data\n",
    "        _ci[column] = ci\n",
    "    return df2, _ci\"\"\""
   ]
  },
  {
   "cell_type": "code",
   "execution_count": 131,
   "metadata": {},
   "outputs": [],
   "source": [
    "#df2, _ci = boxcox_transform(df2)"
   ]
  },
  {
   "cell_type": "code",
   "execution_count": 132,
   "metadata": {},
   "outputs": [
    {
     "data": {
      "text/html": [
       "<div>\n",
       "<style scoped>\n",
       "    .dataframe tbody tr th:only-of-type {\n",
       "        vertical-align: middle;\n",
       "    }\n",
       "\n",
       "    .dataframe tbody tr th {\n",
       "        vertical-align: top;\n",
       "    }\n",
       "\n",
       "    .dataframe thead th {\n",
       "        text-align: right;\n",
       "    }\n",
       "</style>\n",
       "<table border=\"1\" class=\"dataframe\">\n",
       "  <thead>\n",
       "    <tr style=\"text-align: right;\">\n",
       "      <th></th>\n",
       "      <th>city</th>\n",
       "      <th>category</th>\n",
       "      <th>number_of_films_rented</th>\n",
       "      <th>total_money_spent</th>\n",
       "      <th>films_rented_may_2005</th>\n",
       "      <th>question</th>\n",
       "    </tr>\n",
       "    <tr>\n",
       "      <th>customer_id</th>\n",
       "      <th></th>\n",
       "      <th></th>\n",
       "      <th></th>\n",
       "      <th></th>\n",
       "      <th></th>\n",
       "      <th></th>\n",
       "    </tr>\n",
       "  </thead>\n",
       "  <tbody>\n",
       "    <tr>\n",
       "      <th>1</th>\n",
       "      <td>Sasebo</td>\n",
       "      <td>Classics</td>\n",
       "      <td>1024</td>\n",
       "      <td>3797.76</td>\n",
       "      <td>64</td>\n",
       "      <td>YES</td>\n",
       "    </tr>\n",
       "    <tr>\n",
       "      <th>2</th>\n",
       "      <td>San Bernardino</td>\n",
       "      <td>Sports</td>\n",
       "      <td>729</td>\n",
       "      <td>3475.71</td>\n",
       "      <td>27</td>\n",
       "      <td>YES</td>\n",
       "    </tr>\n",
       "    <tr>\n",
       "      <th>3</th>\n",
       "      <td>Athenai</td>\n",
       "      <td>Action</td>\n",
       "      <td>676</td>\n",
       "      <td>3529.24</td>\n",
       "      <td>52</td>\n",
       "      <td>YES</td>\n",
       "    </tr>\n",
       "    <tr>\n",
       "      <th>4</th>\n",
       "      <td>Myingyan</td>\n",
       "      <td>Horror</td>\n",
       "      <td>484</td>\n",
       "      <td>1799.16</td>\n",
       "      <td>0</td>\n",
       "      <td>YES</td>\n",
       "    </tr>\n",
       "    <tr>\n",
       "      <th>5</th>\n",
       "      <td>Nantou</td>\n",
       "      <td>Classics</td>\n",
       "      <td>1444</td>\n",
       "      <td>5495.56</td>\n",
       "      <td>114</td>\n",
       "      <td>YES</td>\n",
       "    </tr>\n",
       "    <tr>\n",
       "      <th>...</th>\n",
       "      <td>...</td>\n",
       "      <td>...</td>\n",
       "      <td>...</td>\n",
       "      <td>...</td>\n",
       "      <td>...</td>\n",
       "      <td>...</td>\n",
       "    </tr>\n",
       "    <tr>\n",
       "      <th>595</th>\n",
       "      <td>Jinzhou</td>\n",
       "      <td>Documentary</td>\n",
       "      <td>900</td>\n",
       "      <td>3531.00</td>\n",
       "      <td>30</td>\n",
       "      <td>YES</td>\n",
       "    </tr>\n",
       "    <tr>\n",
       "      <th>596</th>\n",
       "      <td>Patras</td>\n",
       "      <td>Sports</td>\n",
       "      <td>784</td>\n",
       "      <td>2708.16</td>\n",
       "      <td>168</td>\n",
       "      <td>YES</td>\n",
       "    </tr>\n",
       "    <tr>\n",
       "      <th>597</th>\n",
       "      <td>Sullana</td>\n",
       "      <td>Foreign</td>\n",
       "      <td>625</td>\n",
       "      <td>2493.75</td>\n",
       "      <td>50</td>\n",
       "      <td>YES</td>\n",
       "    </tr>\n",
       "    <tr>\n",
       "      <th>598</th>\n",
       "      <td>Lausanne</td>\n",
       "      <td>Foreign</td>\n",
       "      <td>484</td>\n",
       "      <td>1843.16</td>\n",
       "      <td>0</td>\n",
       "      <td>YES</td>\n",
       "    </tr>\n",
       "    <tr>\n",
       "      <th>599</th>\n",
       "      <td>Tieli</td>\n",
       "      <td>Horror</td>\n",
       "      <td>361</td>\n",
       "      <td>1592.39</td>\n",
       "      <td>19</td>\n",
       "      <td>YES</td>\n",
       "    </tr>\n",
       "  </tbody>\n",
       "</table>\n",
       "<p>599 rows × 6 columns</p>\n",
       "</div>"
      ],
      "text/plain": [
       "                       city     category  number_of_films_rented  \\\n",
       "customer_id                                                        \n",
       "1                    Sasebo     Classics                    1024   \n",
       "2            San Bernardino       Sports                     729   \n",
       "3                   Athenai       Action                     676   \n",
       "4                  Myingyan       Horror                     484   \n",
       "5                    Nantou     Classics                    1444   \n",
       "...                     ...          ...                     ...   \n",
       "595                 Jinzhou  Documentary                     900   \n",
       "596                  Patras       Sports                     784   \n",
       "597                 Sullana      Foreign                     625   \n",
       "598                Lausanne      Foreign                     484   \n",
       "599                   Tieli       Horror                     361   \n",
       "\n",
       "             total_money_spent  films_rented_may_2005 question  \n",
       "customer_id                                                     \n",
       "1                      3797.76                     64      YES  \n",
       "2                      3475.71                     27      YES  \n",
       "3                      3529.24                     52      YES  \n",
       "4                      1799.16                      0      YES  \n",
       "5                      5495.56                    114      YES  \n",
       "...                        ...                    ...      ...  \n",
       "595                    3531.00                     30      YES  \n",
       "596                    2708.16                    168      YES  \n",
       "597                    2493.75                     50      YES  \n",
       "598                    1843.16                      0      YES  \n",
       "599                    1592.39                     19      YES  \n",
       "\n",
       "[599 rows x 6 columns]"
      ]
     },
     "execution_count": 132,
     "metadata": {},
     "output_type": "execute_result"
    }
   ],
   "source": [
    "df2"
   ]
  },
  {
   "cell_type": "code",
   "execution_count": 133,
   "metadata": {
    "scrolled": true
   },
   "outputs": [
    {
     "data": {
      "text/plain": [
       "YES    590\n",
       "NO       9\n",
       "Name: question, dtype: int64"
      ]
     },
     "execution_count": 133,
     "metadata": {},
     "output_type": "execute_result"
    }
   ],
   "source": [
    "#Class imbalance detected\n",
    "df2['question'].value_counts()"
   ]
  },
  {
   "cell_type": "code",
   "execution_count": 134,
   "metadata": {},
   "outputs": [
    {
     "name": "stdout",
     "output_type": "stream",
     "text": [
      "Requirement already satisfied: imblearn in /Users/URI/opt/anaconda3/lib/python3.8/site-packages (0.0)\n",
      "Requirement already satisfied: imbalanced-learn in /Users/URI/opt/anaconda3/lib/python3.8/site-packages (from imblearn) (0.8.0)\n",
      "Requirement already satisfied: scikit-learn>=0.24 in /Users/URI/opt/anaconda3/lib/python3.8/site-packages (from imbalanced-learn->imblearn) (0.24.1)\n",
      "Requirement already satisfied: joblib>=0.11 in /Users/URI/opt/anaconda3/lib/python3.8/site-packages (from imbalanced-learn->imblearn) (0.17.0)\n",
      "Requirement already satisfied: numpy>=1.13.3 in /Users/URI/opt/anaconda3/lib/python3.8/site-packages (from imbalanced-learn->imblearn) (1.19.2)\n",
      "Requirement already satisfied: scipy>=0.19.1 in /Users/URI/opt/anaconda3/lib/python3.8/site-packages (from imbalanced-learn->imblearn) (1.5.2)\n",
      "Requirement already satisfied: threadpoolctl>=2.0.0 in /Users/URI/opt/anaconda3/lib/python3.8/site-packages (from scikit-learn>=0.24->imbalanced-learn->imblearn) (2.1.0)\n"
     ]
    }
   ],
   "source": [
    "!pip install imblearn"
   ]
  },
  {
   "cell_type": "code",
   "execution_count": 135,
   "metadata": {},
   "outputs": [
    {
     "name": "stdout",
     "output_type": "stream",
     "text": [
      "Requirement already satisfied: sklearn in /Users/URI/opt/anaconda3/lib/python3.8/site-packages (0.0)\n",
      "Requirement already satisfied: scikit-learn in /Users/URI/opt/anaconda3/lib/python3.8/site-packages (from sklearn) (0.24.1)\n",
      "Requirement already satisfied: numpy>=1.13.3 in /Users/URI/opt/anaconda3/lib/python3.8/site-packages (from scikit-learn->sklearn) (1.19.2)\n",
      "Requirement already satisfied: joblib>=0.11 in /Users/URI/opt/anaconda3/lib/python3.8/site-packages (from scikit-learn->sklearn) (0.17.0)\n",
      "Requirement already satisfied: scipy>=0.19.1 in /Users/URI/opt/anaconda3/lib/python3.8/site-packages (from scikit-learn->sklearn) (1.5.2)\n",
      "Requirement already satisfied: threadpoolctl>=2.0.0 in /Users/URI/opt/anaconda3/lib/python3.8/site-packages (from scikit-learn->sklearn) (2.1.0)\n"
     ]
    }
   ],
   "source": [
    "!pip install sklearn"
   ]
  },
  {
   "cell_type": "code",
   "execution_count": 136,
   "metadata": {},
   "outputs": [],
   "source": [
    "from imblearn.over_sampling import SMOTE"
   ]
  },
  {
   "cell_type": "code",
   "execution_count": 138,
   "metadata": {},
   "outputs": [
    {
     "data": {
      "text/html": [
       "<div>\n",
       "<style scoped>\n",
       "    .dataframe tbody tr th:only-of-type {\n",
       "        vertical-align: middle;\n",
       "    }\n",
       "\n",
       "    .dataframe tbody tr th {\n",
       "        vertical-align: top;\n",
       "    }\n",
       "\n",
       "    .dataframe thead th {\n",
       "        text-align: right;\n",
       "    }\n",
       "</style>\n",
       "<table border=\"1\" class=\"dataframe\">\n",
       "  <thead>\n",
       "    <tr style=\"text-align: right;\">\n",
       "      <th></th>\n",
       "      <th>category</th>\n",
       "      <th>number_of_films_rented</th>\n",
       "      <th>total_money_spent</th>\n",
       "      <th>films_rented_may_2005</th>\n",
       "      <th>question</th>\n",
       "    </tr>\n",
       "    <tr>\n",
       "      <th>customer_id</th>\n",
       "      <th></th>\n",
       "      <th></th>\n",
       "      <th></th>\n",
       "      <th></th>\n",
       "      <th></th>\n",
       "    </tr>\n",
       "  </thead>\n",
       "  <tbody>\n",
       "    <tr>\n",
       "      <th>1</th>\n",
       "      <td>Classics</td>\n",
       "      <td>1024</td>\n",
       "      <td>3797.76</td>\n",
       "      <td>64</td>\n",
       "      <td>YES</td>\n",
       "    </tr>\n",
       "    <tr>\n",
       "      <th>2</th>\n",
       "      <td>Sports</td>\n",
       "      <td>729</td>\n",
       "      <td>3475.71</td>\n",
       "      <td>27</td>\n",
       "      <td>YES</td>\n",
       "    </tr>\n",
       "    <tr>\n",
       "      <th>3</th>\n",
       "      <td>Action</td>\n",
       "      <td>676</td>\n",
       "      <td>3529.24</td>\n",
       "      <td>52</td>\n",
       "      <td>YES</td>\n",
       "    </tr>\n",
       "    <tr>\n",
       "      <th>4</th>\n",
       "      <td>Horror</td>\n",
       "      <td>484</td>\n",
       "      <td>1799.16</td>\n",
       "      <td>0</td>\n",
       "      <td>YES</td>\n",
       "    </tr>\n",
       "    <tr>\n",
       "      <th>5</th>\n",
       "      <td>Classics</td>\n",
       "      <td>1444</td>\n",
       "      <td>5495.56</td>\n",
       "      <td>114</td>\n",
       "      <td>YES</td>\n",
       "    </tr>\n",
       "    <tr>\n",
       "      <th>...</th>\n",
       "      <td>...</td>\n",
       "      <td>...</td>\n",
       "      <td>...</td>\n",
       "      <td>...</td>\n",
       "      <td>...</td>\n",
       "    </tr>\n",
       "    <tr>\n",
       "      <th>595</th>\n",
       "      <td>Documentary</td>\n",
       "      <td>900</td>\n",
       "      <td>3531.00</td>\n",
       "      <td>30</td>\n",
       "      <td>YES</td>\n",
       "    </tr>\n",
       "    <tr>\n",
       "      <th>596</th>\n",
       "      <td>Sports</td>\n",
       "      <td>784</td>\n",
       "      <td>2708.16</td>\n",
       "      <td>168</td>\n",
       "      <td>YES</td>\n",
       "    </tr>\n",
       "    <tr>\n",
       "      <th>597</th>\n",
       "      <td>Foreign</td>\n",
       "      <td>625</td>\n",
       "      <td>2493.75</td>\n",
       "      <td>50</td>\n",
       "      <td>YES</td>\n",
       "    </tr>\n",
       "    <tr>\n",
       "      <th>598</th>\n",
       "      <td>Foreign</td>\n",
       "      <td>484</td>\n",
       "      <td>1843.16</td>\n",
       "      <td>0</td>\n",
       "      <td>YES</td>\n",
       "    </tr>\n",
       "    <tr>\n",
       "      <th>599</th>\n",
       "      <td>Horror</td>\n",
       "      <td>361</td>\n",
       "      <td>1592.39</td>\n",
       "      <td>19</td>\n",
       "      <td>YES</td>\n",
       "    </tr>\n",
       "  </tbody>\n",
       "</table>\n",
       "<p>599 rows × 5 columns</p>\n",
       "</div>"
      ],
      "text/plain": [
       "                category  number_of_films_rented  total_money_spent  \\\n",
       "customer_id                                                           \n",
       "1               Classics                    1024            3797.76   \n",
       "2                 Sports                     729            3475.71   \n",
       "3                 Action                     676            3529.24   \n",
       "4                 Horror                     484            1799.16   \n",
       "5               Classics                    1444            5495.56   \n",
       "...                  ...                     ...                ...   \n",
       "595          Documentary                     900            3531.00   \n",
       "596               Sports                     784            2708.16   \n",
       "597              Foreign                     625            2493.75   \n",
       "598              Foreign                     484            1843.16   \n",
       "599               Horror                     361            1592.39   \n",
       "\n",
       "             films_rented_may_2005 question  \n",
       "customer_id                                  \n",
       "1                               64      YES  \n",
       "2                               27      YES  \n",
       "3                               52      YES  \n",
       "4                                0      YES  \n",
       "5                              114      YES  \n",
       "...                            ...      ...  \n",
       "595                             30      YES  \n",
       "596                            168      YES  \n",
       "597                             50      YES  \n",
       "598                              0      YES  \n",
       "599                             19      YES  \n",
       "\n",
       "[599 rows x 5 columns]"
      ]
     },
     "execution_count": 138,
     "metadata": {},
     "output_type": "execute_result"
    }
   ],
   "source": [
    "#I drop column City as it's not relevant in the analysis\n",
    "df3 = df2.drop(columns='city')\n",
    "df3"
   ]
  },
  {
   "cell_type": "code",
   "execution_count": 139,
   "metadata": {},
   "outputs": [
    {
     "data": {
      "text/html": [
       "<div>\n",
       "<style scoped>\n",
       "    .dataframe tbody tr th:only-of-type {\n",
       "        vertical-align: middle;\n",
       "    }\n",
       "\n",
       "    .dataframe tbody tr th {\n",
       "        vertical-align: top;\n",
       "    }\n",
       "\n",
       "    .dataframe thead th {\n",
       "        text-align: right;\n",
       "    }\n",
       "</style>\n",
       "<table border=\"1\" class=\"dataframe\">\n",
       "  <thead>\n",
       "    <tr style=\"text-align: right;\">\n",
       "      <th></th>\n",
       "      <th>number_of_films_rented</th>\n",
       "      <th>total_money_spent</th>\n",
       "      <th>films_rented_may_2005</th>\n",
       "      <th>question</th>\n",
       "      <th>category_Action</th>\n",
       "      <th>category_Animation</th>\n",
       "      <th>category_Children</th>\n",
       "      <th>category_Classics</th>\n",
       "      <th>category_Comedy</th>\n",
       "      <th>category_Documentary</th>\n",
       "      <th>category_Drama</th>\n",
       "      <th>category_Family</th>\n",
       "      <th>category_Foreign</th>\n",
       "      <th>category_Games</th>\n",
       "      <th>category_Horror</th>\n",
       "      <th>category_Music</th>\n",
       "      <th>category_New</th>\n",
       "      <th>category_Sci-Fi</th>\n",
       "      <th>category_Sports</th>\n",
       "      <th>category_Travel</th>\n",
       "    </tr>\n",
       "    <tr>\n",
       "      <th>customer_id</th>\n",
       "      <th></th>\n",
       "      <th></th>\n",
       "      <th></th>\n",
       "      <th></th>\n",
       "      <th></th>\n",
       "      <th></th>\n",
       "      <th></th>\n",
       "      <th></th>\n",
       "      <th></th>\n",
       "      <th></th>\n",
       "      <th></th>\n",
       "      <th></th>\n",
       "      <th></th>\n",
       "      <th></th>\n",
       "      <th></th>\n",
       "      <th></th>\n",
       "      <th></th>\n",
       "      <th></th>\n",
       "      <th></th>\n",
       "      <th></th>\n",
       "    </tr>\n",
       "  </thead>\n",
       "  <tbody>\n",
       "    <tr>\n",
       "      <th>1</th>\n",
       "      <td>1024</td>\n",
       "      <td>3797.76</td>\n",
       "      <td>64</td>\n",
       "      <td>YES</td>\n",
       "      <td>0</td>\n",
       "      <td>0</td>\n",
       "      <td>0</td>\n",
       "      <td>1</td>\n",
       "      <td>0</td>\n",
       "      <td>0</td>\n",
       "      <td>0</td>\n",
       "      <td>0</td>\n",
       "      <td>0</td>\n",
       "      <td>0</td>\n",
       "      <td>0</td>\n",
       "      <td>0</td>\n",
       "      <td>0</td>\n",
       "      <td>0</td>\n",
       "      <td>0</td>\n",
       "      <td>0</td>\n",
       "    </tr>\n",
       "    <tr>\n",
       "      <th>2</th>\n",
       "      <td>729</td>\n",
       "      <td>3475.71</td>\n",
       "      <td>27</td>\n",
       "      <td>YES</td>\n",
       "      <td>0</td>\n",
       "      <td>0</td>\n",
       "      <td>0</td>\n",
       "      <td>0</td>\n",
       "      <td>0</td>\n",
       "      <td>0</td>\n",
       "      <td>0</td>\n",
       "      <td>0</td>\n",
       "      <td>0</td>\n",
       "      <td>0</td>\n",
       "      <td>0</td>\n",
       "      <td>0</td>\n",
       "      <td>0</td>\n",
       "      <td>0</td>\n",
       "      <td>1</td>\n",
       "      <td>0</td>\n",
       "    </tr>\n",
       "    <tr>\n",
       "      <th>3</th>\n",
       "      <td>676</td>\n",
       "      <td>3529.24</td>\n",
       "      <td>52</td>\n",
       "      <td>YES</td>\n",
       "      <td>1</td>\n",
       "      <td>0</td>\n",
       "      <td>0</td>\n",
       "      <td>0</td>\n",
       "      <td>0</td>\n",
       "      <td>0</td>\n",
       "      <td>0</td>\n",
       "      <td>0</td>\n",
       "      <td>0</td>\n",
       "      <td>0</td>\n",
       "      <td>0</td>\n",
       "      <td>0</td>\n",
       "      <td>0</td>\n",
       "      <td>0</td>\n",
       "      <td>0</td>\n",
       "      <td>0</td>\n",
       "    </tr>\n",
       "    <tr>\n",
       "      <th>4</th>\n",
       "      <td>484</td>\n",
       "      <td>1799.16</td>\n",
       "      <td>0</td>\n",
       "      <td>YES</td>\n",
       "      <td>0</td>\n",
       "      <td>0</td>\n",
       "      <td>0</td>\n",
       "      <td>0</td>\n",
       "      <td>0</td>\n",
       "      <td>0</td>\n",
       "      <td>0</td>\n",
       "      <td>0</td>\n",
       "      <td>0</td>\n",
       "      <td>0</td>\n",
       "      <td>1</td>\n",
       "      <td>0</td>\n",
       "      <td>0</td>\n",
       "      <td>0</td>\n",
       "      <td>0</td>\n",
       "      <td>0</td>\n",
       "    </tr>\n",
       "    <tr>\n",
       "      <th>5</th>\n",
       "      <td>1444</td>\n",
       "      <td>5495.56</td>\n",
       "      <td>114</td>\n",
       "      <td>YES</td>\n",
       "      <td>0</td>\n",
       "      <td>0</td>\n",
       "      <td>0</td>\n",
       "      <td>1</td>\n",
       "      <td>0</td>\n",
       "      <td>0</td>\n",
       "      <td>0</td>\n",
       "      <td>0</td>\n",
       "      <td>0</td>\n",
       "      <td>0</td>\n",
       "      <td>0</td>\n",
       "      <td>0</td>\n",
       "      <td>0</td>\n",
       "      <td>0</td>\n",
       "      <td>0</td>\n",
       "      <td>0</td>\n",
       "    </tr>\n",
       "    <tr>\n",
       "      <th>...</th>\n",
       "      <td>...</td>\n",
       "      <td>...</td>\n",
       "      <td>...</td>\n",
       "      <td>...</td>\n",
       "      <td>...</td>\n",
       "      <td>...</td>\n",
       "      <td>...</td>\n",
       "      <td>...</td>\n",
       "      <td>...</td>\n",
       "      <td>...</td>\n",
       "      <td>...</td>\n",
       "      <td>...</td>\n",
       "      <td>...</td>\n",
       "      <td>...</td>\n",
       "      <td>...</td>\n",
       "      <td>...</td>\n",
       "      <td>...</td>\n",
       "      <td>...</td>\n",
       "      <td>...</td>\n",
       "      <td>...</td>\n",
       "    </tr>\n",
       "    <tr>\n",
       "      <th>595</th>\n",
       "      <td>900</td>\n",
       "      <td>3531.00</td>\n",
       "      <td>30</td>\n",
       "      <td>YES</td>\n",
       "      <td>0</td>\n",
       "      <td>0</td>\n",
       "      <td>0</td>\n",
       "      <td>0</td>\n",
       "      <td>0</td>\n",
       "      <td>1</td>\n",
       "      <td>0</td>\n",
       "      <td>0</td>\n",
       "      <td>0</td>\n",
       "      <td>0</td>\n",
       "      <td>0</td>\n",
       "      <td>0</td>\n",
       "      <td>0</td>\n",
       "      <td>0</td>\n",
       "      <td>0</td>\n",
       "      <td>0</td>\n",
       "    </tr>\n",
       "    <tr>\n",
       "      <th>596</th>\n",
       "      <td>784</td>\n",
       "      <td>2708.16</td>\n",
       "      <td>168</td>\n",
       "      <td>YES</td>\n",
       "      <td>0</td>\n",
       "      <td>0</td>\n",
       "      <td>0</td>\n",
       "      <td>0</td>\n",
       "      <td>0</td>\n",
       "      <td>0</td>\n",
       "      <td>0</td>\n",
       "      <td>0</td>\n",
       "      <td>0</td>\n",
       "      <td>0</td>\n",
       "      <td>0</td>\n",
       "      <td>0</td>\n",
       "      <td>0</td>\n",
       "      <td>0</td>\n",
       "      <td>1</td>\n",
       "      <td>0</td>\n",
       "    </tr>\n",
       "    <tr>\n",
       "      <th>597</th>\n",
       "      <td>625</td>\n",
       "      <td>2493.75</td>\n",
       "      <td>50</td>\n",
       "      <td>YES</td>\n",
       "      <td>0</td>\n",
       "      <td>0</td>\n",
       "      <td>0</td>\n",
       "      <td>0</td>\n",
       "      <td>0</td>\n",
       "      <td>0</td>\n",
       "      <td>0</td>\n",
       "      <td>0</td>\n",
       "      <td>1</td>\n",
       "      <td>0</td>\n",
       "      <td>0</td>\n",
       "      <td>0</td>\n",
       "      <td>0</td>\n",
       "      <td>0</td>\n",
       "      <td>0</td>\n",
       "      <td>0</td>\n",
       "    </tr>\n",
       "    <tr>\n",
       "      <th>598</th>\n",
       "      <td>484</td>\n",
       "      <td>1843.16</td>\n",
       "      <td>0</td>\n",
       "      <td>YES</td>\n",
       "      <td>0</td>\n",
       "      <td>0</td>\n",
       "      <td>0</td>\n",
       "      <td>0</td>\n",
       "      <td>0</td>\n",
       "      <td>0</td>\n",
       "      <td>0</td>\n",
       "      <td>0</td>\n",
       "      <td>1</td>\n",
       "      <td>0</td>\n",
       "      <td>0</td>\n",
       "      <td>0</td>\n",
       "      <td>0</td>\n",
       "      <td>0</td>\n",
       "      <td>0</td>\n",
       "      <td>0</td>\n",
       "    </tr>\n",
       "    <tr>\n",
       "      <th>599</th>\n",
       "      <td>361</td>\n",
       "      <td>1592.39</td>\n",
       "      <td>19</td>\n",
       "      <td>YES</td>\n",
       "      <td>0</td>\n",
       "      <td>0</td>\n",
       "      <td>0</td>\n",
       "      <td>0</td>\n",
       "      <td>0</td>\n",
       "      <td>0</td>\n",
       "      <td>0</td>\n",
       "      <td>0</td>\n",
       "      <td>0</td>\n",
       "      <td>0</td>\n",
       "      <td>1</td>\n",
       "      <td>0</td>\n",
       "      <td>0</td>\n",
       "      <td>0</td>\n",
       "      <td>0</td>\n",
       "      <td>0</td>\n",
       "    </tr>\n",
       "  </tbody>\n",
       "</table>\n",
       "<p>599 rows × 20 columns</p>\n",
       "</div>"
      ],
      "text/plain": [
       "             number_of_films_rented  total_money_spent  films_rented_may_2005  \\\n",
       "customer_id                                                                     \n",
       "1                              1024            3797.76                     64   \n",
       "2                               729            3475.71                     27   \n",
       "3                               676            3529.24                     52   \n",
       "4                               484            1799.16                      0   \n",
       "5                              1444            5495.56                    114   \n",
       "...                             ...                ...                    ...   \n",
       "595                             900            3531.00                     30   \n",
       "596                             784            2708.16                    168   \n",
       "597                             625            2493.75                     50   \n",
       "598                             484            1843.16                      0   \n",
       "599                             361            1592.39                     19   \n",
       "\n",
       "            question  category_Action  category_Animation  category_Children  \\\n",
       "customer_id                                                                    \n",
       "1                YES                0                   0                  0   \n",
       "2                YES                0                   0                  0   \n",
       "3                YES                1                   0                  0   \n",
       "4                YES                0                   0                  0   \n",
       "5                YES                0                   0                  0   \n",
       "...              ...              ...                 ...                ...   \n",
       "595              YES                0                   0                  0   \n",
       "596              YES                0                   0                  0   \n",
       "597              YES                0                   0                  0   \n",
       "598              YES                0                   0                  0   \n",
       "599              YES                0                   0                  0   \n",
       "\n",
       "             category_Classics  category_Comedy  category_Documentary  \\\n",
       "customer_id                                                             \n",
       "1                            1                0                     0   \n",
       "2                            0                0                     0   \n",
       "3                            0                0                     0   \n",
       "4                            0                0                     0   \n",
       "5                            1                0                     0   \n",
       "...                        ...              ...                   ...   \n",
       "595                          0                0                     1   \n",
       "596                          0                0                     0   \n",
       "597                          0                0                     0   \n",
       "598                          0                0                     0   \n",
       "599                          0                0                     0   \n",
       "\n",
       "             category_Drama  category_Family  category_Foreign  \\\n",
       "customer_id                                                      \n",
       "1                         0                0                 0   \n",
       "2                         0                0                 0   \n",
       "3                         0                0                 0   \n",
       "4                         0                0                 0   \n",
       "5                         0                0                 0   \n",
       "...                     ...              ...               ...   \n",
       "595                       0                0                 0   \n",
       "596                       0                0                 0   \n",
       "597                       0                0                 1   \n",
       "598                       0                0                 1   \n",
       "599                       0                0                 0   \n",
       "\n",
       "             category_Games  category_Horror  category_Music  category_New  \\\n",
       "customer_id                                                                  \n",
       "1                         0                0               0             0   \n",
       "2                         0                0               0             0   \n",
       "3                         0                0               0             0   \n",
       "4                         0                1               0             0   \n",
       "5                         0                0               0             0   \n",
       "...                     ...              ...             ...           ...   \n",
       "595                       0                0               0             0   \n",
       "596                       0                0               0             0   \n",
       "597                       0                0               0             0   \n",
       "598                       0                0               0             0   \n",
       "599                       0                1               0             0   \n",
       "\n",
       "             category_Sci-Fi  category_Sports  category_Travel  \n",
       "customer_id                                                     \n",
       "1                          0                0                0  \n",
       "2                          0                1                0  \n",
       "3                          0                0                0  \n",
       "4                          0                0                0  \n",
       "5                          0                0                0  \n",
       "...                      ...              ...              ...  \n",
       "595                        0                0                0  \n",
       "596                        0                1                0  \n",
       "597                        0                0                0  \n",
       "598                        0                0                0  \n",
       "599                        0                0                0  \n",
       "\n",
       "[599 rows x 20 columns]"
      ]
     },
     "execution_count": 139,
     "metadata": {},
     "output_type": "execute_result"
    }
   ],
   "source": [
    "#I dummify the column 'Category' to 'numerize' the analysis\n",
    "df4 = pd.get_dummies(df3, columns=['category'])\n",
    "df4"
   ]
  },
  {
   "cell_type": "code",
   "execution_count": 141,
   "metadata": {},
   "outputs": [
    {
     "data": {
      "text/plain": [
       "NO     590\n",
       "YES    590\n",
       "Name: question, dtype: int64"
      ]
     },
     "execution_count": 141,
     "metadata": {},
     "output_type": "execute_result"
    }
   ],
   "source": [
    "# SMOTE\n",
    "#I use Upsampling because downsampling it would mean lose too many data from the one we have significant\n",
    "from imblearn.over_sampling import SMOTE\n",
    "\n",
    "smote = SMOTE()\n",
    "\n",
    "X = df4.drop('question', axis=1)\n",
    "y = df4['question']\n",
    "\n",
    "X, y = smote.fit_resample(X, y)\n",
    "y.value_counts()"
   ]
  },
  {
   "cell_type": "code",
   "execution_count": 142,
   "metadata": {},
   "outputs": [
    {
     "data": {
      "text/html": [
       "<div>\n",
       "<style scoped>\n",
       "    .dataframe tbody tr th:only-of-type {\n",
       "        vertical-align: middle;\n",
       "    }\n",
       "\n",
       "    .dataframe tbody tr th {\n",
       "        vertical-align: top;\n",
       "    }\n",
       "\n",
       "    .dataframe thead th {\n",
       "        text-align: right;\n",
       "    }\n",
       "</style>\n",
       "<table border=\"1\" class=\"dataframe\">\n",
       "  <thead>\n",
       "    <tr style=\"text-align: right;\">\n",
       "      <th></th>\n",
       "      <th>number_of_films_rented</th>\n",
       "      <th>total_money_spent</th>\n",
       "      <th>films_rented_may_2005</th>\n",
       "      <th>category_Action</th>\n",
       "      <th>category_Animation</th>\n",
       "      <th>category_Children</th>\n",
       "      <th>category_Classics</th>\n",
       "      <th>category_Comedy</th>\n",
       "      <th>category_Documentary</th>\n",
       "      <th>category_Drama</th>\n",
       "      <th>category_Family</th>\n",
       "      <th>category_Foreign</th>\n",
       "      <th>category_Games</th>\n",
       "      <th>category_Horror</th>\n",
       "      <th>category_Music</th>\n",
       "      <th>category_New</th>\n",
       "      <th>category_Sci-Fi</th>\n",
       "      <th>category_Sports</th>\n",
       "      <th>category_Travel</th>\n",
       "    </tr>\n",
       "  </thead>\n",
       "  <tbody>\n",
       "    <tr>\n",
       "      <th>0</th>\n",
       "      <td>1024</td>\n",
       "      <td>3797.76</td>\n",
       "      <td>64</td>\n",
       "      <td>0</td>\n",
       "      <td>0</td>\n",
       "      <td>0</td>\n",
       "      <td>1</td>\n",
       "      <td>0</td>\n",
       "      <td>0</td>\n",
       "      <td>0</td>\n",
       "      <td>0</td>\n",
       "      <td>0</td>\n",
       "      <td>0</td>\n",
       "      <td>0</td>\n",
       "      <td>0</td>\n",
       "      <td>0</td>\n",
       "      <td>0</td>\n",
       "      <td>0</td>\n",
       "      <td>0</td>\n",
       "    </tr>\n",
       "    <tr>\n",
       "      <th>1</th>\n",
       "      <td>729</td>\n",
       "      <td>3475.71</td>\n",
       "      <td>27</td>\n",
       "      <td>0</td>\n",
       "      <td>0</td>\n",
       "      <td>0</td>\n",
       "      <td>0</td>\n",
       "      <td>0</td>\n",
       "      <td>0</td>\n",
       "      <td>0</td>\n",
       "      <td>0</td>\n",
       "      <td>0</td>\n",
       "      <td>0</td>\n",
       "      <td>0</td>\n",
       "      <td>0</td>\n",
       "      <td>0</td>\n",
       "      <td>0</td>\n",
       "      <td>1</td>\n",
       "      <td>0</td>\n",
       "    </tr>\n",
       "    <tr>\n",
       "      <th>2</th>\n",
       "      <td>676</td>\n",
       "      <td>3529.24</td>\n",
       "      <td>52</td>\n",
       "      <td>1</td>\n",
       "      <td>0</td>\n",
       "      <td>0</td>\n",
       "      <td>0</td>\n",
       "      <td>0</td>\n",
       "      <td>0</td>\n",
       "      <td>0</td>\n",
       "      <td>0</td>\n",
       "      <td>0</td>\n",
       "      <td>0</td>\n",
       "      <td>0</td>\n",
       "      <td>0</td>\n",
       "      <td>0</td>\n",
       "      <td>0</td>\n",
       "      <td>0</td>\n",
       "      <td>0</td>\n",
       "    </tr>\n",
       "    <tr>\n",
       "      <th>3</th>\n",
       "      <td>484</td>\n",
       "      <td>1799.16</td>\n",
       "      <td>0</td>\n",
       "      <td>0</td>\n",
       "      <td>0</td>\n",
       "      <td>0</td>\n",
       "      <td>0</td>\n",
       "      <td>0</td>\n",
       "      <td>0</td>\n",
       "      <td>0</td>\n",
       "      <td>0</td>\n",
       "      <td>0</td>\n",
       "      <td>0</td>\n",
       "      <td>1</td>\n",
       "      <td>0</td>\n",
       "      <td>0</td>\n",
       "      <td>0</td>\n",
       "      <td>0</td>\n",
       "      <td>0</td>\n",
       "    </tr>\n",
       "    <tr>\n",
       "      <th>4</th>\n",
       "      <td>1444</td>\n",
       "      <td>5495.56</td>\n",
       "      <td>114</td>\n",
       "      <td>0</td>\n",
       "      <td>0</td>\n",
       "      <td>0</td>\n",
       "      <td>1</td>\n",
       "      <td>0</td>\n",
       "      <td>0</td>\n",
       "      <td>0</td>\n",
       "      <td>0</td>\n",
       "      <td>0</td>\n",
       "      <td>0</td>\n",
       "      <td>0</td>\n",
       "      <td>0</td>\n",
       "      <td>0</td>\n",
       "      <td>0</td>\n",
       "      <td>0</td>\n",
       "      <td>0</td>\n",
       "    </tr>\n",
       "  </tbody>\n",
       "</table>\n",
       "</div>"
      ],
      "text/plain": [
       "   number_of_films_rented  total_money_spent  films_rented_may_2005  \\\n",
       "0                    1024            3797.76                     64   \n",
       "1                     729            3475.71                     27   \n",
       "2                     676            3529.24                     52   \n",
       "3                     484            1799.16                      0   \n",
       "4                    1444            5495.56                    114   \n",
       "\n",
       "   category_Action  category_Animation  category_Children  category_Classics  \\\n",
       "0                0                   0                  0                  1   \n",
       "1                0                   0                  0                  0   \n",
       "2                1                   0                  0                  0   \n",
       "3                0                   0                  0                  0   \n",
       "4                0                   0                  0                  1   \n",
       "\n",
       "   category_Comedy  category_Documentary  category_Drama  category_Family  \\\n",
       "0                0                     0               0                0   \n",
       "1                0                     0               0                0   \n",
       "2                0                     0               0                0   \n",
       "3                0                     0               0                0   \n",
       "4                0                     0               0                0   \n",
       "\n",
       "   category_Foreign  category_Games  category_Horror  category_Music  \\\n",
       "0                 0               0                0               0   \n",
       "1                 0               0                0               0   \n",
       "2                 0               0                0               0   \n",
       "3                 0               0                1               0   \n",
       "4                 0               0                0               0   \n",
       "\n",
       "   category_New  category_Sci-Fi  category_Sports  category_Travel  \n",
       "0             0                0                0                0  \n",
       "1             0                0                1                0  \n",
       "2             0                0                0                0  \n",
       "3             0                0                0                0  \n",
       "4             0                0                0                0  "
      ]
     },
     "execution_count": 142,
     "metadata": {},
     "output_type": "execute_result"
    }
   ],
   "source": [
    "X.head()"
   ]
  },
  {
   "cell_type": "code",
   "execution_count": 143,
   "metadata": {},
   "outputs": [],
   "source": [
    "X_train, X_test, y_train, y_test = train_test_split(X, y, test_size=0.2, random_state=42)"
   ]
  },
  {
   "cell_type": "code",
   "execution_count": 144,
   "metadata": {},
   "outputs": [
    {
     "data": {
      "text/plain": [
       "LogisticRegression(max_iter=10000, random_state=42)"
      ]
     },
     "execution_count": 144,
     "metadata": {},
     "output_type": "execute_result"
    }
   ],
   "source": [
    "from sklearn.linear_model import LogisticRegression\n",
    "\n",
    "classification = LogisticRegression(random_state=42, max_iter=10000)\n",
    "classification.fit(X_train, y_train)"
   ]
  },
  {
   "cell_type": "code",
   "execution_count": 146,
   "metadata": {},
   "outputs": [
    {
     "data": {
      "text/plain": [
       "0.9364406779661016"
      ]
     },
     "execution_count": 146,
     "metadata": {},
     "output_type": "execute_result"
    }
   ],
   "source": [
    "#The prediction score is pretty high. This might be explained because the imbalance was too pronounced and the data that's been created is too similar to the one that we already have\n",
    "classification.score(X_test, y_test)"
   ]
  },
  {
   "cell_type": "code",
   "execution_count": 147,
   "metadata": {},
   "outputs": [
    {
     "data": {
      "text/plain": [
       "array([[117,   3],\n",
       "       [ 12, 104]])"
      ]
     },
     "execution_count": 147,
     "metadata": {},
     "output_type": "execute_result"
    }
   ],
   "source": [
    "from sklearn.metrics import confusion_matrix\n",
    "\n",
    "predictions = classification.predict(X_test)\n",
    "confusion_matrix(y_test, predictions)"
   ]
  },
  {
   "cell_type": "code",
   "execution_count": 148,
   "metadata": {},
   "outputs": [
    {
     "data": {
      "text/plain": [
       "<AxesSubplot:>"
      ]
     },
     "execution_count": 148,
     "metadata": {},
     "output_type": "execute_result"
    },
    {
     "data": {
      "image/png": "[encoded data removed]",
      "text/plain": [
       "<Figure size 432x288 with 2 Axes>"
      ]
     },
     "metadata": {
      "needs_background": "light"
     },
     "output_type": "display_data"
    }
   ],
   "source": [
    "cf_matrix = confusion_matrix(y_test, predictions)\n",
    "group_names = ['True YES', 'False YES', 'True NO', 'False NO']\n",
    "\n",
    "group_counts = [\"{0:0.0f}\".format(value) for value in cf_matrix.flatten()]\n",
    "group_percentages = [\"{0:.2%}\".format(value) for value in cf_matrix.flatten()/np.sum(cf_matrix)]\n",
    "labels = [f\"{v1}\\n{v2}\\n{v3}\" for v1, v2, v3 in zip(group_names,group_counts,group_percentages)]\n",
    "labels = np.asarray(labels).reshape(2,2)\n",
    "sns.heatmap(cf_matrix, annot=labels, fmt='', cmap='Blues')\n",
    "#Naturally, the fake NO's are too much given that we've created more than x5 "
   ]
  },
  {
   "cell_type": "code",
   "execution_count": 149,
   "metadata": {},
   "outputs": [
    {
     "data": {
      "image/png": "[encoded data removed]",
      "text/plain": [
       "<Figure size 432x288 with 2 Axes>"
      ]
     },
     "metadata": {
      "needs_background": "light"
     },
     "output_type": "display_data"
    }
   ],
   "source": [
    "from sklearn.metrics import plot_confusion_matrix\n",
    "\n",
    "plot_confusion_matrix(classification, X_test, y_test, cmap='Blues')\n",
    "plt.show()"
   ]
  },
  {
   "cell_type": "code",
   "execution_count": null,
   "metadata": {},
   "outputs": [],
   "source": []
  }
 ],
 "metadata": {
  "kernelspec": {
   "display_name": "Python 3",
   "language": "python",
   "name": "python3"
  },
  "language_info": {
   "codemirror_mode": {
    "name": "ipython",
    "version": 3
   },
   "file_extension": ".py",
   "mimetype": "text/x-python",
   "name": "python",
   "nbconvert_exporter": "python",
   "pygments_lexer": "ipython3",
   "version": "3.8.5"
  }
 },
 "nbformat": 4,
 "nbformat_minor": 4
}
